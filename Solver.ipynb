{
 "cells": [
  {
   "cell_type": "markdown",
   "metadata": {},
   "source": [
    "# Suduko Solver\n",
    "\n",
    "The aim of this code is to accept a 9x9 grid input (i.e. a blank suduko) and return a different grid which corresponds to the answer to the suduko.\n",
    "\n",
    "## Define a grid\n",
    "\n",
    "The input grid will take the form of a list of lists. The parent list (of lists) will contain 9 lists, each with 9 elements corresponding to what is in the suduko. E.g. if a box contains the number 5, then the corresponding element in the list of lists will be 5; if the box is blank to begin with, then the corresponding element in the list of lists will be 0.\n",
    "\n",
    "Below is an empty example grid which can be copied and filled out for convenience: "
   ]
  },
  {
   "cell_type": "raw",
   "metadata": {},
   "source": [
    "empty = [[0,0,0,0,0,0,0,0,0],\n",
    "         [0,0,0,0,0,0,0,0,0],\n",
    "         [0,0,0,0,0,0,0,0,0],\n",
    "         [0,0,0,0,0,0,0,0,0],\n",
    "         [0,0,0,0,0,0,0,0,0],\n",
    "         [0,0,0,0,0,0,0,0,0],\n",
    "         [0,0,0,0,0,0,0,0,0],\n",
    "         [0,0,0,0,0,0,0,0,0],\n",
    "         [0,0,0,0,0,0,0,0,0]]\n"
   ]
  },
  {
   "cell_type": "code",
   "execution_count": 1,
   "metadata": {
    "collapsed": true
   },
   "outputs": [],
   "source": [
    "grid = [[9,4,0,0,0,0,0,0,0],\n",
    "         [0,0,0,4,3,7,0,0,0],\n",
    "         [0,0,0,0,0,0,2,0,0],\n",
    "         [0,0,0,5,0,6,0,7,0],\n",
    "         [3,0,8,0,0,0,0,5,0],\n",
    "         [0,6,0,0,0,4,0,2,0],\n",
    "         [1,0,5,0,7,0,0,0,0],\n",
    "         [0,0,0,8,0,0,0,0,9],\n",
    "         [0,0,4,0,9,0,0,0,1]]am"
   ]
  },
  {
   "cell_type": "markdown",
   "metadata": {},
   "source": [
    "To call an individual element in this list of lists we use the command:\n",
    "    \n",
    "    grid[y][x]\n",
    "\n",
    "where y corresponds to the row of the grid and x corresponds to the column of the grid. Remember that this a grid with python indexing - the indices start from 0 (i.e. the first row and first column have an index of 0).\n",
    "\n",
    "If we want to print the grid nicely to the console then we can use the matrix function in numpy."
   ]
  },
  {
   "cell_type": "code",
   "execution_count": 2,
   "metadata": {
    "collapsed": true
   },
   "outputs": [],
   "source": [
    "import numpy as np"
   ]
  },
  {
   "cell_type": "code",
   "execution_count": 3,
   "metadata": {},
   "outputs": [
    {
     "name": "stdout",
     "output_type": "stream",
     "text": [
      "[[9 4 0 0 0 0 0 0 0]\n",
      " [0 0 0 4 3 7 0 0 0]\n",
      " [0 0 0 0 0 0 2 0 0]\n",
      " [0 0 0 5 0 6 0 7 0]\n",
      " [3 0 8 0 0 0 0 5 0]\n",
      " [0 6 0 0 0 4 0 2 0]\n",
      " [1 0 5 0 7 0 0 0 0]\n",
      " [0 0 0 8 0 0 0 0 9]\n",
      " [0 0 4 0 9 0 0 0 1]]\n"
     ]
    }
   ],
   "source": [
    "g = np.matrix(grid)\n",
    "print(g)"
   ]
  },
  {
   "cell_type": "code",
   "execution_count": 4,
   "metadata": {},
   "outputs": [
    {
     "data": {
      "text/plain": [
       "0"
      ]
     },
     "execution_count": 4,
     "metadata": {},
     "output_type": "execute_result"
    }
   ],
   "source": [
    "grid[0][8]"
   ]
  },
  {
   "cell_type": "markdown",
   "metadata": {},
   "source": [
    "## Solving\n",
    "\n",
    "We want to be able to determine if a number (n) can go in a certain location. This means testing three conditions:\n",
    "- is n in the row?\n",
    "- is n in the column?\n",
    "- is n in the larger suduko square\n"
   ]
  },
  {
   "cell_type": "markdown",
   "metadata": {},
   "source": [
    "#### How to assign a large suduko square to a (y,x) position?"
   ]
  },
  {
   "cell_type": "markdown",
   "metadata": {},
   "source": [
    "We can create another 3x3 grid in terms of x0 and y0 corresponding to the large squares.\n",
    "\n",
    "For the rows (x), x0 = 0,1,2\n",
    "For the columns (y) y0 = 0,1,2\n",
    "\n",
    "if a position (y,x) has a an x element == 5 (i.e. the 6th position), it lies in the second box, i.e. x0=1.\n",
    "\n",
    "This x0 value can be calculated for any given x value using `x0 = x//3` "
   ]
  },
  {
   "cell_type": "code",
   "execution_count": 5,
   "metadata": {
    "collapsed": true
   },
   "outputs": [],
   "source": [
    "def possible(y,x,n): # Tests if the number n can go in position (y,x)\n",
    "    global grid # allows the function to use the grid input from outside the function\n",
    "    for i in range(9):\n",
    "        if grid[y][i] == n: # if n is in the same column as (y,x) then the function returns false\n",
    "            return False\n",
    "    for i in range(9):\n",
    "        if grid[i][x] == n: # if n is in the same row as (y,x) then the function returns false\n",
    "            return False\n",
    "    # Now to test if the number n is in the same square as the (y,x)\n",
    "    y0 = y // 3 # define the y element of the large box\n",
    "    x0 = x // 3 # define the x element of the large box\n",
    "    for i in range(3):\n",
    "        for j in range(3):\n",
    "            if grid[(y0*3) +i][(x0*3)+j] == n: # iterate over the 9 elements (j,i) in the large box containing (y,x)\n",
    "                return False # return false if the number being tested n is in the large box\n",
    "    return True # If the number n can be at position (y,x) then the function returns True"
   ]
  },
  {
   "cell_type": "code",
   "execution_count": 6,
   "metadata": {},
   "outputs": [
    {
     "data": {
      "text/plain": [
       "True"
      ]
     },
     "execution_count": 6,
     "metadata": {},
     "output_type": "execute_result"
    }
   ],
   "source": [
    "possible(0,2,2)"
   ]
  },
  {
   "cell_type": "code",
   "execution_count": 7,
   "metadata": {},
   "outputs": [
    {
     "data": {
      "text/plain": [
       "0"
      ]
     },
     "execution_count": 7,
     "metadata": {},
     "output_type": "execute_result"
    }
   ],
   "source": [
    "0//3"
   ]
  },
  {
   "cell_type": "markdown",
   "metadata": {},
   "source": [
    "## Solving the entire grid\n",
    "\n",
    "Now that we can determine whether or not it is possible for a number to go in a particular square, we must test every possible blank square.\n",
    "\n",
    "We must iterate through the y and x values to find a blank square. Then we must test if the numbers 1-9 can go in that square using the `possible` function. If a number n can go there, we assign that (y,x) position as the number n. Then we call the same function again as a recursion in order to find and test the next blank space.\n",
    "\n",
    "However, if we come across a blank space and we test and find that none of the numbers 1-9 can go there, we must back-track to that first possibility and assign it as blank."
   ]
  },
  {
   "cell_type": "code",
   "execution_count": 8,
   "metadata": {
    "collapsed": true
   },
   "outputs": [],
   "source": [
    "def solve():\n",
    "    global grid #ensure the outside variable grid runs inside the function\n",
    "    for y in range(9):\n",
    "        for x in range(9):\n",
    "            if grid[y][x] == 0: # iterate across the entire grid searching for blank square\n",
    "                for n in range(1,10):\n",
    "                    if possible(y,x,n): # test if numbers 1-9 can go in the blank space\n",
    "                        grid[y][x] = n # if the number can go here, assign that position (y,x) as that number\n",
    "                        solve() # call the same function again in a form of recursion\n",
    "                        grid[y][x] = 0 # back-track - this sets the position as 0, and tests the next n in the n for loop\n",
    "                # If no blank space can be found, then the suduko must be solved\n",
    "                return\n",
    "    print(np.matrix(grid))\n",
    "    input(\"more?\") # This allows the user to see if there are any other solutions to the blank suduko. \n",
    "                   # Ideally, there should be only 1 solution."
   ]
  },
  {
   "cell_type": "code",
   "execution_count": 9,
   "metadata": {},
   "outputs": [
    {
     "name": "stdout",
     "output_type": "stream",
     "text": [
      "[[9 4 6 1 5 2 3 8 7]\n",
      " [2 8 1 4 3 7 6 9 5]\n",
      " [7 5 3 9 6 8 2 1 4]\n",
      " [4 2 9 5 8 6 1 7 3]\n",
      " [3 1 8 7 2 9 4 5 6]\n",
      " [5 6 7 3 1 4 9 2 8]\n",
      " [1 9 5 6 7 3 8 4 2]\n",
      " [6 7 2 8 4 1 5 3 9]\n",
      " [8 3 4 2 9 5 7 6 1]]\n",
      "more?\n"
     ]
    }
   ],
   "source": [
    "solve()"
   ]
  }
 ],
 "metadata": {
  "kernelspec": {
   "display_name": "Python 3",
   "language": "python",
   "name": "python3"
  },
  "language_info": {
   "codemirror_mode": {
    "name": "ipython",
    "version": 3
   },
   "file_extension": ".py",
   "mimetype": "text/x-python",
   "name": "python",
   "nbconvert_exporter": "python",
   "pygments_lexer": "ipython3",
   "version": "3.6.1"
  }
 },
 "nbformat": 4,
 "nbformat_minor": 2
}
